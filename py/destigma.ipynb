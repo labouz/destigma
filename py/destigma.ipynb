{
 "cells": [
  {
   "cell_type": "code",
   "execution_count": 1,
   "metadata": {},
   "outputs": [],
   "source": [
    "import pandas as pd\n",
    "import pickle\n",
    "import os\n",
    "import time\n",
    "import openai\n",
    "\n",
    "# data \n",
    "# 2.3 million rows\n",
    "drug_sub = pickle.load(open('../data/all_data_filtered_delauthor.pkl', 'rb'))\n",
    "# 1,5 million\n",
    "non_drug_sub = pickle.load(open('../data/non_drug_data_filtered_delauthor.pkl', 'rb'))"
   ]
  },
  {
   "cell_type": "code",
   "execution_count": 2,
   "metadata": {},
   "outputs": [],
   "source": [
    "from openai import OpenAI\n",
    "api_key = os.environ['OPENAI_API_KEY']\n",
    "client = OpenAI(api_key = api_key)"
   ]
  },
  {
   "cell_type": "markdown",
   "metadata": {},
   "source": [
    "---\n",
    "## TASK1"
   ]
  },
  {
   "cell_type": "code",
   "execution_count": 3,
   "metadata": {},
   "outputs": [],
   "source": [
    "from task1 import get_stigma_drug"
   ]
  },
  {
   "cell_type": "code",
   "execution_count": 4,
   "metadata": {},
   "outputs": [],
   "source": [
    "seed = 1\n",
    "drug_sample = drug_sub.sample(500, random_state = seed)\n",
    "non_drug_sample = non_drug_sub.sample(500, random_state = seed)\n",
    "dat = pd.concat([drug_sample, non_drug_sample])"
   ]
  },
  {
   "cell_type": "code",
   "execution_count": 6,
   "metadata": {},
   "outputs": [],
   "source": [
    "dat['task1_label'] = dat['text'].apply(lambda x: get_stigma_drug(x, openai_client=client))"
   ]
  },
  {
   "cell_type": "code",
   "execution_count": 14,
   "metadata": {},
   "outputs": [],
   "source": [
    "# save\n",
    "pickle.dump(dat, open('../data/destigma_pipeline/task1_1.pkl', 'wb'))"
   ]
  },
  {
   "cell_type": "markdown",
   "metadata": {},
   "source": [
    "---\n",
    "## TASK 2"
   ]
  },
  {
   "cell_type": "code",
   "execution_count": 13,
   "metadata": {},
   "outputs": [],
   "source": [
    "# label starts with 's-d'\n",
    "dat_task2 = dat[dat['task1_label'].apply(lambda x: x.startswith('s-d'))]"
   ]
  },
  {
   "cell_type": "code",
   "execution_count": 15,
   "metadata": {},
   "outputs": [],
   "source": [
    "pickle.dump(dat_task2, open('../data/destigma_pipeline/task2_1.pkl', 'wb'))"
   ]
  },
  {
   "cell_type": "code",
   "execution_count": 4,
   "metadata": {},
   "outputs": [],
   "source": [
    "from task2 import get_utterance\n",
    "task2 = pickle.load(open('../data/destigma_pipeline/task2/task2_1.pkl', 'rb'))"
   ]
  },
  {
   "cell_type": "code",
   "execution_count": 5,
   "metadata": {},
   "outputs": [],
   "source": [
    "task2['task2_label'] = task2['text'].apply(lambda x: get_utterance(x, openai_client=client))"
   ]
  },
  {
   "cell_type": "code",
   "execution_count": 6,
   "metadata": {},
   "outputs": [],
   "source": [
    "task2.to_csv('../data/evaluation_spreadsheets/task2_1.csv', index = False)"
   ]
  },
  {
   "cell_type": "code",
   "execution_count": null,
   "metadata": {},
   "outputs": [],
   "source": [
    "# create loop for task 1 and task2\n",
    "# chunks of 1000 rows 10 times\n",
    "\n",
    "for i in range(10):\n",
    "    print(i)\n",
    "    seed = i\n",
    "    drug_sample = drug_sub.sample(500, random_state = seed)\n",
    "    non_drug_sample = non_drug_sub.sample(500, random_state = seed)\n",
    "    dat = pd.concat([drug_sample, non_drug_sample])\n",
    "\n",
    "    dat['task1_label'] = dat['text'].apply(lambda x: get_stigma_drug(x, openai_client=client))\n",
    "\n",
    "    # save\n",
    "    pickle.dump(dat, open('../data/destigma_pipeline/task1/task1_{}.pkl'.format(i), 'wb'))\n",
    "\n",
    "    # label starts with 's-d'\n",
    "    dat_task2 = dat[dat['task1_label'].apply(lambda x: x.startswith('s-d'))]\n",
    "    dat_task2['task2_label'] = dat_task2['text'].apply(lambda x: get_stigma_drug(x, openai_client=client))\n",
    "\n",
    "    # save\n",
    "    pickle.dump(dat_task2, open('../data/destigma_pipeline/task2/task2_{}.pkl'.format(i), 'wb'))\n",
    "    time.sleep(5) # sleep for 5 seconds"
   ]
  }
 ],
 "metadata": {
  "kernelspec": {
   "display_name": "base",
   "language": "python",
   "name": "python3"
  },
  "language_info": {
   "codemirror_mode": {
    "name": "ipython",
    "version": 3
   },
   "file_extension": ".py",
   "mimetype": "text/x-python",
   "name": "python",
   "nbconvert_exporter": "python",
   "pygments_lexer": "ipython3",
   "version": "3.9.13"
  }
 },
 "nbformat": 4,
 "nbformat_minor": 2
}
