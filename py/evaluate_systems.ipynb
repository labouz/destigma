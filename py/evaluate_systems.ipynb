{
 "cells": [
  {
   "cell_type": "code",
   "execution_count": 1,
   "metadata": {},
   "outputs": [],
   "source": [
    "import pandas as pd\n",
    "\n",
    "all_sys = pd.read_excel(\"../data/evaluation_sets/de-stigma eval/all_systems.xlsx\")"
   ]
  },
  {
   "cell_type": "code",
   "execution_count": 2,
   "metadata": {},
   "outputs": [],
   "source": [
    "# gpt4 baseline\n",
    "gpt = pd.read_csv(\"../data/destigma_pipeline/task3/destigmatized_strategy1_gpt4.csv\")\n",
    "llama = pd.read_csv(\"../data/destigma_pipeline/task3/destigmatized_llama.csv\")"
   ]
  },
  {
   "cell_type": "code",
   "execution_count": 3,
   "metadata": {},
   "outputs": [],
   "source": [
    "# join gpt and llama to all_sys by id\n",
    "\n",
    "all_sys = all_sys.merge(gpt[[\"id\", \"destigma_strategy1_gpt4\"]], on=\"id\", how=\"left\")"
   ]
  },
  {
   "cell_type": "code",
   "execution_count": 4,
   "metadata": {},
   "outputs": [],
   "source": [
    "all_sys = all_sys.merge(llama[[\"id\", \"destigma_strategy1_llama\"]], on=\"id\", how=\"left\")"
   ]
  },
  {
   "cell_type": "code",
   "execution_count": 5,
   "metadata": {},
   "outputs": [],
   "source": [
    "all_sys.to_excel(\"../data/evaluation_sets/de-stigma eval/all_systems_with_baseline.xlsx\", index=False)"
   ]
  },
  {
   "cell_type": "markdown",
   "metadata": {},
   "source": [
    "---\n",
    "## CREATING EVALUATION SETS\n",
    "\n",
    "Variable mapping:\n",
    "1. `destigma_strategy1_llama` = Baseline with Llama\n",
    "2. `destigma_strategy1_gpt4` = Baseline with GPT-4\n",
    "3. `destigma_B_step1` = Informed model with GPT-4 (Labeling only)\n",
    "4. `destigma_B_step1_Llama` = Informed model with Llama (Labeling only)\n",
    "5. `destigma_B_step2` = Informed model with GPT-4 (All stigma)\n",
    "6. `destigma_B_step2_Llama` = Informed model with Llama (All stigma)\n",
    "7. `destigma_C_step1` = Stylistic model with GPT-4 (Labeling only)\n",
    "8. `destigma_C_step1_Llama` = Stylistic model with Llama (Labeling only)\n",
    "9. `destigma_C_step2` = Stylistic model with GPT-4 (All stigma)\n",
    "10. `destigma_C_step2_Llama` = Stylistic model with Llama (All stigma)"
   ]
  },
  {
   "cell_type": "code",
   "execution_count": 6,
   "metadata": {},
   "outputs": [],
   "source": [
    "# random sample of 20 per set\n",
    "# vars: id, text, stigmaExplanation, destigma_strategy1_gpt4, destigma_strategy1_llama, destigma_B_step2, destigma_B_step2_Llama, destigma_C_step2, destigma_C_step2_Llama\n",
    "\n",
    "all_sys_eval = all_sys[['id', 'text', 'stigmaExplanation', 'destigma_strategy1_gpt4', 'destigma_strategy1_llama', 'destigma_B_step2', 'destigma_B_step2_Llama', 'destigma_C_step2', 'destigma_C_step2_Llama']]\n",
    "set1 = all_sys_eval.sample(20)\n",
    "set2 = all_sys_eval.sample(20)\n",
    "set3 = all_sys_eval.sample(20)\n",
    "set4 = all_sys_eval.sample(20)\n",
    "set5 = all_sys_eval.sample(30) #shadi\n"
   ]
  },
  {
   "cell_type": "code",
   "execution_count": 7,
   "metadata": {},
   "outputs": [],
   "source": [
    "# export all to excel\n",
    "set1.to_excel(\"../data/evaluation_sets/de-stigma eval/set1.xlsx\", index=False)\n",
    "set2.to_excel(\"../data/evaluation_sets/de-stigma eval/set2.xlsx\", index=False)\n",
    "set3.to_excel(\"../data/evaluation_sets/de-stigma eval/set3.xlsx\", index=False)\n",
    "set4.to_excel(\"../data/evaluation_sets/de-stigma eval/set4.xlsx\", index=False)\n",
    "set5.to_excel(\"../data/evaluation_sets/de-stigma eval/set5.xlsx\", index=False)"
   ]
  },
  {
   "cell_type": "markdown",
   "metadata": {},
   "source": [
    "---\n",
    "## Analyze Evaluations"
   ]
  },
  {
   "cell_type": "code",
   "execution_count": 8,
   "metadata": {},
   "outputs": [
    {
     "name": "stderr",
     "output_type": "stream",
     "text": [
      "/Users/laylabouzoubaa/opt/anaconda3/lib/python3.9/site-packages/openpyxl/worksheet/_read_only.py:79: UserWarning: Data Validation extension is not supported and will be removed\n",
      "  for idx, row in parser.parse():\n",
      "/Users/laylabouzoubaa/opt/anaconda3/lib/python3.9/site-packages/openpyxl/worksheet/_read_only.py:79: UserWarning: Data Validation extension is not supported and will be removed\n",
      "  for idx, row in parser.parse():\n",
      "/Users/laylabouzoubaa/opt/anaconda3/lib/python3.9/site-packages/openpyxl/worksheet/_read_only.py:79: UserWarning: Data Validation extension is not supported and will be removed\n",
      "  for idx, row in parser.parse():\n",
      "/Users/laylabouzoubaa/opt/anaconda3/lib/python3.9/site-packages/openpyxl/worksheet/_read_only.py:79: UserWarning: Data Validation extension is not supported and will be removed\n",
      "  for idx, row in parser.parse():\n",
      "/Users/laylabouzoubaa/opt/anaconda3/lib/python3.9/site-packages/openpyxl/worksheet/_read_only.py:79: UserWarning: Data Validation extension is not supported and will be removed\n",
      "  for idx, row in parser.parse():\n"
     ]
    }
   ],
   "source": [
    "dir = \"../data/evaluation_sets/de-stigma eval/evaluated/\"\n",
    "# read all files there\n",
    "# get file names\n",
    "import os\n",
    "\n",
    "files = os.listdir(dir)\n",
    "files = [f for f in files if f.endswith(\".xlsx\")]\n",
    "\n",
    "# read all files\n",
    "dfs = []\n",
    "for f in files:\n",
    "    df = pd.read_excel(dir + f)\n",
    "    df[\"set\"] = f\n",
    "    dfs.append(df)\n",
    "\n",
    "all_eval = pd.concat(dfs)"
   ]
  },
  {
   "cell_type": "code",
   "execution_count": 9,
   "metadata": {},
   "outputs": [
    {
     "data": {
      "text/plain": [
       "System 5    37\n",
       "System 3    24\n",
       "System 4    18\n",
       "System 6    13\n",
       "System 2     9\n",
       "System 1     6\n",
       "SYstem 4     1\n",
       "Name: Best Overall Quality, dtype: int64"
      ]
     },
     "execution_count": 9,
     "metadata": {},
     "output_type": "execute_result"
    }
   ],
   "source": [
    "all_eval[\"Best Overall Quality\"].value_counts()"
   ]
  },
  {
   "cell_type": "code",
   "execution_count": 10,
   "metadata": {},
   "outputs": [
    {
     "data": {
      "text/plain": [
       "System 1    40\n",
       "System 2    32\n",
       "System 5    18\n",
       "System 4     8\n",
       "System 3     7\n",
       "System 6     3\n",
       "Name: Most De-Stigmatized, dtype: int64"
      ]
     },
     "execution_count": 10,
     "metadata": {},
     "output_type": "execute_result"
    }
   ],
   "source": [
    "all_eval[\"Most De-Stigmatized\"].value_counts()"
   ]
  },
  {
   "cell_type": "code",
   "execution_count": 11,
   "metadata": {},
   "outputs": [
    {
     "data": {
      "text/plain": [
       "System 5    49\n",
       "System 3    33\n",
       "System 4    16\n",
       "System 6     6\n",
       "System 1     2\n",
       "System 2     2\n",
       "Name: Most Faithful, dtype: int64"
      ]
     },
     "execution_count": 11,
     "metadata": {},
     "output_type": "execute_result"
    }
   ],
   "source": [
    "all_eval[\"Most Faithful\"].value_counts()"
   ]
  },
  {
   "cell_type": "code",
   "execution_count": null,
   "metadata": {},
   "outputs": [],
   "source": [
    "# create a summary table\n",
    "# summary = all_eval.groupby([\"Best Overall Quality\", \"Most De-Stigmatized\", \"Most Faithful\"]).size().reset_index(name=\"counts\")\n",
    "# summary.to_excel(\"../data/evaluation_sets/de-stigma eval/summary.xlsx\", index=False)\n",
    "# print(summary)"
   ]
  },
  {
   "cell_type": "code",
   "execution_count": 15,
   "metadata": {},
   "outputs": [
    {
     "name": "stdout",
     "output_type": "stream",
     "text": [
      "[\"I don't think this post has stigma\"\n",
      " 'System 1 has terribly misunderstood the post'\n",
      " 'The desitigmatized one here loses some of the essence of the original'\n",
      " '5 here is the most humanlike and most accurate.'\n",
      " '3 is the most humanlike despite losing on some of the factual information that 6 has'\n",
      " 'Naturalness: natural,\\nCohesion: the text is coherent enough\\n\\nAppropriateness: I think the emotion of this text mostly changed from negative to becoming empathetic.\\n\\nHuman-Likeness: This one looks like human generated the text.                                       Although I gave most faithful rank to system 3, I still feel all the system generatedtext lack details similar to the main text. Most of the text removed the actual essence of the text \"anger or hatreds\". I guess I was wondering, does distigmatized mean changing the words to less extreme word but still keeping the emotion of the text exactly as it is ? '\n",
      " 'I think the original post nowhere discussed it used substance. I think \"cocaine \" was used as a  comparison. Most systems actually wrote \"use of substance\", which I guess misleading. Sys 1 and 2 are missing '\n",
      " 'I liked how system 3 generated \"diverse clientee\" instead like other systems mentioning \"difficult challenges\" '\n",
      " \"I honestly didn't find this post stigmatized \"\n",
      " 'system 1 I found more supportive but not best quality, overall best is system 1 , I guess, still maintain how upset the individual is but using better word. Syste, 3 for faithfulness, as the text generated by the system hold similar essence (Same as the original text)'\n",
      " 'cannot choose. sys 1 is bad, sys 2 hallucinated, sys 3 is copy of orginal,None is good'\n",
      " 'I like the sentence of sys 5, sys 1 is like too positive'\n",
      " 'I think most systems did a decent job, except the last one'\n",
      " 'I think sys 4,5, and 3 are equally good. sys 2 mostly adds a moral of the story \"It\\'s a reminder that we should all be careful and look out for each other\\'s well-being.\" same sometimes happened with sys 1, too positive'\n",
      " 'intersting that sys 2 changed pronoun from he to they'\n",
      " 'sys 5 and 4 are equally good'\n",
      " 'Not the best, but sys 5 is doing a decent job at least '\n",
      " 'cannot choose.  OMG, sys 2 is refusing to \"write a love letter to cocaine\". but this post is not stigmatizing, right?'\n",
      " 'sys 5 and 4 and 3 are equally good' 'Not sure if it is stigma'\n",
      " \"I don't think the sentence should be changed, sys 3 kept it as is\"\n",
      " 'system 3,4, 5 are equally good. haha, sys 1 changed I am an addict to \"I am driven, I am in recovery.\" and sys 2, to \"I am a survivor\"'\n",
      " 'is this stigmatizing? None are good but also not stigmatizing'\n",
      " 'is this stigmatizing?'\n",
      " 'None are good to be honest, I had to make a selection so I chose 3, also not strongly stigmatizing'\n",
      " \"sys 1 completley changed it to a safety message, I wouldn't say this is a stigmatizing message 100%\"]\n"
     ]
    }
   ],
   "source": [
    "# get general feedback for cells that are not empty\n",
    "print(all_eval[\"General Feedback\"].dropna().values)"
   ]
  },
  {
   "cell_type": "code",
   "execution_count": null,
   "metadata": {},
   "outputs": [],
   "source": []
  }
 ],
 "metadata": {
  "kernelspec": {
   "display_name": "base",
   "language": "python",
   "name": "python3"
  },
  "language_info": {
   "codemirror_mode": {
    "name": "ipython",
    "version": 3
   },
   "file_extension": ".py",
   "mimetype": "text/x-python",
   "name": "python",
   "nbconvert_exporter": "python",
   "pygments_lexer": "ipython3",
   "version": "3.9.-1"
  }
 },
 "nbformat": 4,
 "nbformat_minor": 2
}
