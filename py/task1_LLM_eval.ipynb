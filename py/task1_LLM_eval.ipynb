{
 "cells": [
  {
   "cell_type": "code",
   "execution_count": 6,
   "metadata": {},
   "outputs": [],
   "source": [
    "import pandas as pd\n",
    "import pickle\n",
    "import os\n",
    "import time\n",
    "from task1 import get_drug_post\n",
    "import concurrent.futures\n",
    "import json\n",
    "import openai\n",
    "from pararallelize import process_posts_in_parallel\n",
    "\n",
    "with open('../data/secrets.json') as f:\n",
    "    secrets = json.load(f)\n",
    "\n",
    "api_key = secrets['OPENAI_API_KEY_LB2']\n",
    "\n",
    "client = openai.Client(api_key=api_key)"
   ]
  },
  {
   "cell_type": "code",
   "execution_count": 2,
   "metadata": {},
   "outputs": [],
   "source": [
    "# evaluated data from task1 - d or nd\n",
    "evaluated_data = pd.read_excel('../data/evaluation_sets/task2_evaluated_gpt.xlsx')"
   ]
  },
  {
   "cell_type": "code",
   "execution_count": 7,
   "metadata": {},
   "outputs": [
    {
     "name": "stdout",
     "output_type": "stream",
     "text": [
      "Time taken for gpt3.5 turbo in secs: 11.495413064956665\n"
     ]
    }
   ],
   "source": [
    "# comparing gpt3.5 turbo and 4 turbo for accuracy, time, cost\n",
    "# gpt3.5 turbo\n",
    "\n",
    "start_time = time.time()\n",
    "evaluated_data[\"gpt3_5_turbo6\"] = process_posts_in_parallel(evaluated_data['text'].tolist(), model= \"gpt-3.5-turbo-0125\",task = get_drug_post, client= client)\n",
    "end_time = time.time()\n",
    "print(f\"Time taken for gpt3.5 turbo in secs: {(end_time - start_time)}\")"
   ]
  },
  {
   "cell_type": "code",
   "execution_count": 4,
   "metadata": {},
   "outputs": [
    {
     "name": "stdout",
     "output_type": "stream",
     "text": [
      "Time taken for gpt4 turbo in seconds: 16.06296181678772\n"
     ]
    }
   ],
   "source": [
    "start_time = time.time()\n",
    "evaluated_data[\"gpt4_turbo5\"] = process_posts_in_parallel(evaluated_data['text'].tolist(), model= \"gpt-4-turbo-2024-04-09\", task = get_drug_post, client= client)\n",
    "end_time = time.time()\n",
    "print(f\"Time taken for gpt4 turbo in seconds: {(end_time - start_time)}\")"
   ]
  },
  {
   "cell_type": "code",
   "execution_count": 14,
   "metadata": {},
   "outputs": [],
   "source": [
    "# save the data\n",
    "evaluated_data.to_excel('../data/evaluation_sets/task2_evaluated_gpt.xlsx', index=False)"
   ]
  },
  {
   "cell_type": "code",
   "execution_count": 8,
   "metadata": {},
   "outputs": [
    {
     "name": "stdout",
     "output_type": "stream",
     "text": [
      "Classification report for gpt3.5 turbo\n",
      "              precision    recall  f1-score   support\n",
      "\n",
      "           d       0.61      0.75      0.67        73\n",
      "          nd       0.86      0.77      0.81       149\n",
      "\n",
      "    accuracy                           0.76       222\n",
      "   macro avg       0.74      0.76      0.74       222\n",
      "weighted avg       0.78      0.76      0.77       222\n",
      "\n",
      "              precision    recall  f1-score   support\n",
      "\n",
      "           d       0.57      0.92      0.70        73\n",
      "          nd       0.94      0.66      0.77       149\n",
      "\n",
      "    accuracy                           0.74       222\n",
      "   macro avg       0.76      0.79      0.74       222\n",
      "weighted avg       0.82      0.74      0.75       222\n",
      "\n",
      "              precision    recall  f1-score   support\n",
      "\n",
      "           d       0.61      0.93      0.74        73\n",
      "          nd       0.95      0.71      0.82       149\n",
      "\n",
      "    accuracy                           0.78       222\n",
      "   macro avg       0.78      0.82      0.78       222\n",
      "weighted avg       0.84      0.78      0.79       222\n",
      "\n",
      "              precision    recall  f1-score   support\n",
      "\n",
      "           d       0.61      0.93      0.74        73\n",
      "          nd       0.95      0.71      0.82       149\n",
      "\n",
      "    accuracy                           0.78       222\n",
      "   macro avg       0.78      0.82      0.78       222\n",
      "weighted avg       0.84      0.78      0.79       222\n",
      "\n",
      "                                                                                                                                                                       precision    recall  f1-score   support\n",
      "\n",
      "                                                                                                                                                                    d       0.62      0.95      0.75        73\n",
      "                                                                                                                                                                   nd       0.96      0.70      0.81       149\n",
      "this post contains disturbing and graphic content that is not suitable for review. it describes explicit and harmful behaviors that are not appropriate for analysis.       0.00      0.00      0.00         0\n",
      "               this post discusses a person's struggles with pedophilic thoughts during masturbation. it does not mention drug use or addiction. \n",
      "\n",
      "classification: nd       0.00      0.00      0.00         0\n",
      "\n",
      "                                                                                                                                                             accuracy                           0.78       222\n",
      "                                                                                                                                                            macro avg       0.39      0.41      0.39       222\n",
      "                                                                                                                                                         weighted avg       0.85      0.78      0.79       222\n",
      "\n",
      "Classification report for gpt4 turbo\n",
      "              precision    recall  f1-score   support\n",
      "\n",
      "           d       0.92      0.79      0.85        73\n",
      "          nd       0.91      0.97      0.94       149\n",
      "\n",
      "    accuracy                           0.91       222\n",
      "   macro avg       0.91      0.88      0.89       222\n",
      "weighted avg       0.91      0.91      0.91       222\n",
      "\n",
      "              precision    recall  f1-score   support\n",
      "\n",
      "           d       0.88      0.89      0.88        73\n",
      "          nd       0.95      0.94      0.94       149\n",
      "\n",
      "    accuracy                           0.92       222\n",
      "   macro avg       0.91      0.92      0.91       222\n",
      "weighted avg       0.92      0.92      0.92       222\n",
      "\n",
      "              precision    recall  f1-score   support\n",
      "\n",
      "           d       0.89      0.90      0.90        73\n",
      "          nd       0.95      0.95      0.95       149\n",
      "\n",
      "    accuracy                           0.93       222\n",
      "   macro avg       0.92      0.93      0.92       222\n",
      "weighted avg       0.93      0.93      0.93       222\n",
      "\n",
      "              precision    recall  f1-score   support\n",
      "\n",
      "           d       0.89      0.90      0.90        73\n",
      "          nd       0.95      0.95      0.95       149\n",
      "\n",
      "    accuracy                           0.93       222\n",
      "   macro avg       0.92      0.93      0.92       222\n",
      "weighted avg       0.93      0.93      0.93       222\n",
      "\n",
      "              precision    recall  f1-score   support\n",
      "\n",
      "           d       0.89      0.88      0.88        73\n",
      "          nd       0.94      0.95      0.94       149\n",
      "\n",
      "    accuracy                           0.92       222\n",
      "   macro avg       0.91      0.91      0.91       222\n",
      "weighted avg       0.92      0.92      0.92       222\n",
      "\n"
     ]
    },
    {
     "name": "stderr",
     "output_type": "stream",
     "text": [
      "/Users/laylabouzoubaa/opt/anaconda3/lib/python3.9/site-packages/sklearn/metrics/_classification.py:1327: UndefinedMetricWarning: Recall and F-score are ill-defined and being set to 0.0 in labels with no true samples. Use `zero_division` parameter to control this behavior.\n",
      "  _warn_prf(average, modifier, msg_start, len(result))\n",
      "/Users/laylabouzoubaa/opt/anaconda3/lib/python3.9/site-packages/sklearn/metrics/_classification.py:1327: UndefinedMetricWarning: Recall and F-score are ill-defined and being set to 0.0 in labels with no true samples. Use `zero_division` parameter to control this behavior.\n",
      "  _warn_prf(average, modifier, msg_start, len(result))\n",
      "/Users/laylabouzoubaa/opt/anaconda3/lib/python3.9/site-packages/sklearn/metrics/_classification.py:1327: UndefinedMetricWarning: Recall and F-score are ill-defined and being set to 0.0 in labels with no true samples. Use `zero_division` parameter to control this behavior.\n",
      "  _warn_prf(average, modifier, msg_start, len(result))\n"
     ]
    }
   ],
   "source": [
    "# calculate accuracy\n",
    "from sklearn.metrics import accuracy_score, classification_report\n",
    "# classification report\n",
    "print(\"Classification report for gpt3.5 turbo\")\n",
    "print(classification_report(evaluated_data['is_drug_LB'], evaluated_data['gpt3_5_turbo']))\n",
    "print(classification_report(evaluated_data['is_drug_LB'], evaluated_data['gpt3_5_turbo2']))\n",
    "print(classification_report(evaluated_data['is_drug_LB'], evaluated_data['gpt3_5_turbo4']))\n",
    "print(classification_report(evaluated_data['is_drug_LB'], evaluated_data['gpt3_5_turbo5']))\n",
    "print(classification_report(evaluated_data['is_drug_LB'], evaluated_data['gpt3_5_turbo6']))\n",
    "print(\"Classification report for gpt4 turbo\")\n",
    "print(classification_report(evaluated_data['is_drug_LB'], evaluated_data['gpt4_turbo']))\n",
    "print(classification_report(evaluated_data['is_drug_LB'], evaluated_data['gpt4_turbo2']))\n",
    "print(classification_report(evaluated_data['is_drug_LB'], evaluated_data['gpt4_turbo3']))\n",
    "print(classification_report(evaluated_data['is_drug_LB'], evaluated_data['gpt4_turbo4']))\n",
    "print(classification_report(evaluated_data['is_drug_LB'], evaluated_data['gpt4_turbo5']))\n",
    "\n",
    "# print(f\"Accuracy for gpt3.5 turbo: {accuracy_score(evaluated_data['is_drug_LB'], evaluated_data['gpt3_5_turbo'])}\")\n",
    "# print(f\"Accuracy for gpt4 turbo: {accuracy_score(evaluated_data['is_drug_LB'], evaluated_data['gpt4_turbo'])}\")"
   ]
  },
  {
   "cell_type": "code",
   "execution_count": null,
   "metadata": {},
   "outputs": [],
   "source": []
  }
 ],
 "metadata": {
  "kernelspec": {
   "display_name": "base",
   "language": "python",
   "name": "python3"
  },
  "language_info": {
   "codemirror_mode": {
    "name": "ipython",
    "version": 3
   },
   "file_extension": ".py",
   "mimetype": "text/x-python",
   "name": "python",
   "nbconvert_exporter": "python",
   "pygments_lexer": "ipython3",
   "version": "3.9.13"
  }
 },
 "nbformat": 4,
 "nbformat_minor": 2
}
