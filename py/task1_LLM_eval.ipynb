{
 "cells": [
  {
   "cell_type": "code",
   "execution_count": 6,
   "metadata": {},
   "outputs": [],
   "source": [
    "import pandas as pd\n",
    "import pickle\n",
    "import os\n",
    "import time\n",
    "from task1 import get_drug_post\n",
    "import concurrent.futures\n",
    "import json\n",
    "import openai\n",
    "from pararallelize import process_posts_in_parallel\n",
    "\n",
    "with open('../data/secrets.json') as f:\n",
    "    secrets = json.load(f)\n",
    "\n",
    "api_key = secrets['OPENAI_API_KEY_LB']\n",
    "\n",
    "client = openai.Client(api_key=api_key)"
   ]
  },
  {
   "cell_type": "code",
   "execution_count": 7,
   "metadata": {},
   "outputs": [],
   "source": [
    "# evaluated data from task1 - d or nd\n",
    "evaluated_data = pd.read_excel('../data/evaluation_sets/task2_evaluated_gpt.xlsx')"
   ]
  },
  {
   "cell_type": "code",
   "execution_count": 8,
   "metadata": {},
   "outputs": [
    {
     "name": "stdout",
     "output_type": "stream",
     "text": [
      "Time taken for gpt3.5 turbo in secs: 11.568889856338501\n"
     ]
    }
   ],
   "source": [
    "# comparing gpt3.5 turbo and 4 turbo for accuracy, time, cost\n",
    "# gpt3.5 turbo\n",
    "\n",
    "start_time = time.time()\n",
    "evaluated_data[\"gpt3_5_turbo6\"] = process_posts_in_parallel(evaluated_data['text'].tolist(), model= \"gpt-3.5-turbo-0125\",task = get_drug_post, client= client)\n",
    "end_time = time.time()\n",
    "print(f\"Time taken for gpt3.5 turbo in secs: {(end_time - start_time)}\")"
   ]
  },
  {
   "cell_type": "code",
   "execution_count": 4,
   "metadata": {},
   "outputs": [
    {
     "name": "stdout",
     "output_type": "stream",
     "text": [
      "Time taken for gpt4 turbo in seconds: 17.700851917266846\n"
     ]
    }
   ],
   "source": [
    "start_time = time.time()\n",
    "evaluated_data[\"gpt4_turbo5\"] = process_posts_in_parallel(evaluated_data['text'].tolist(), model= \"gpt-4-turbo-2024-04-09\", task = get_drug_post, client= client)\n",
    "end_time = time.time()\n",
    "print(f\"Time taken for gpt4 turbo in seconds: {(end_time - start_time)}\")"
   ]
  },
  {
   "cell_type": "code",
   "execution_count": 14,
   "metadata": {},
   "outputs": [],
   "source": [
    "# save the data\n",
    "evaluated_data.to_excel('../data/evaluation_sets/task2_evaluated_gpt.xlsx', index=False)"
   ]
  },
  {
   "cell_type": "code",
   "execution_count": 11,
   "metadata": {},
   "outputs": [
    {
     "name": "stdout",
     "output_type": "stream",
     "text": [
      "Classification report for gpt3.5 turbo\n",
      "              precision    recall  f1-score   support\n",
      "\n",
      "           d       0.61      0.77      0.68        71\n",
      "          nd       0.88      0.77      0.82       151\n",
      "\n",
      "    accuracy                           0.77       222\n",
      "   macro avg       0.74      0.77      0.75       222\n",
      "weighted avg       0.79      0.77      0.78       222\n",
      "\n",
      "              precision    recall  f1-score   support\n",
      "\n",
      "           d       0.56      0.93      0.70        71\n",
      "          nd       0.95      0.66      0.78       151\n",
      "\n",
      "    accuracy                           0.74       222\n",
      "   macro avg       0.76      0.79      0.74       222\n",
      "weighted avg       0.83      0.74      0.75       222\n",
      "\n",
      "              precision    recall  f1-score   support\n",
      "\n",
      "           d       0.61      0.96      0.75        71\n",
      "          nd       0.97      0.72      0.82       151\n",
      "\n",
      "    accuracy                           0.79       222\n",
      "   macro avg       0.79      0.84      0.79       222\n",
      "weighted avg       0.86      0.79      0.80       222\n",
      "\n",
      "                                                                                                                                                                                                                                                                       precision    recall  f1-score   support\n",
      "\n",
      "                                                                                                                                                                                                                                                                    d       0.64      0.79      0.70        71\n",
      "                                                                                                                                                                                                                                                                   nd       0.89      0.78      0.83       151\n",
      "this content is highly disturbing and inappropriate. if you or someone you know is experiencing thoughts or behaviors like those described, it is crucial to seek help immediately. please contact a mental health professional, counselor, or therapist for support.       0.00      0.00      0.00         0\n",
      "\n",
      "                                                                                                                                                                                                                                                             accuracy                           0.78       222\n",
      "                                                                                                                                                                                                                                                            macro avg       0.51      0.52      0.51       222\n",
      "                                                                                                                                                                                                                                                         weighted avg       0.81      0.78      0.79       222\n",
      "\n",
      "Classification report for gpt4 turbo\n",
      "              precision    recall  f1-score   support\n",
      "\n",
      "           d       0.92      0.82      0.87        71\n",
      "          nd       0.92      0.97      0.94       151\n",
      "\n",
      "    accuracy                           0.92       222\n",
      "   macro avg       0.92      0.89      0.90       222\n",
      "weighted avg       0.92      0.92      0.92       222\n",
      "\n",
      "              precision    recall  f1-score   support\n",
      "\n",
      "           d       0.86      0.90      0.88        71\n",
      "          nd       0.95      0.93      0.94       151\n",
      "\n",
      "    accuracy                           0.92       222\n",
      "   macro avg       0.91      0.92      0.91       222\n",
      "weighted avg       0.92      0.92      0.92       222\n",
      "\n",
      "              precision    recall  f1-score   support\n",
      "\n",
      "           d       0.88      0.92      0.90        71\n",
      "          nd       0.96      0.94      0.95       151\n",
      "\n",
      "    accuracy                           0.93       222\n",
      "   macro avg       0.92      0.93      0.92       222\n",
      "weighted avg       0.93      0.93      0.93       222\n",
      "\n"
     ]
    },
    {
     "name": "stderr",
     "output_type": "stream",
     "text": [
      "/Users/laylabouzoubaa/opt/anaconda3/lib/python3.9/site-packages/sklearn/metrics/_classification.py:1327: UndefinedMetricWarning: Recall and F-score are ill-defined and being set to 0.0 in labels with no true samples. Use `zero_division` parameter to control this behavior.\n",
      "  _warn_prf(average, modifier, msg_start, len(result))\n",
      "/Users/laylabouzoubaa/opt/anaconda3/lib/python3.9/site-packages/sklearn/metrics/_classification.py:1327: UndefinedMetricWarning: Recall and F-score are ill-defined and being set to 0.0 in labels with no true samples. Use `zero_division` parameter to control this behavior.\n",
      "  _warn_prf(average, modifier, msg_start, len(result))\n",
      "/Users/laylabouzoubaa/opt/anaconda3/lib/python3.9/site-packages/sklearn/metrics/_classification.py:1327: UndefinedMetricWarning: Recall and F-score are ill-defined and being set to 0.0 in labels with no true samples. Use `zero_division` parameter to control this behavior.\n",
      "  _warn_prf(average, modifier, msg_start, len(result))\n"
     ]
    }
   ],
   "source": [
    "# calculate accuracy\n",
    "from sklearn.metrics import accuracy_score, classification_report\n",
    "# classification report\n",
    "print(\"Classification report for gpt3.5 turbo\")\n",
    "print(classification_report(evaluated_data['is_drug_LB'], evaluated_data['gpt3_5_turbo']))\n",
    "print(classification_report(evaluated_data['is_drug_LB'], evaluated_data['gpt3_5_turbo2']))\n",
    "print(classification_report(evaluated_data['is_drug_LB'], evaluated_data['gpt3_5_turbo4']))\n",
    "# print(classification_report(evaluated_data['is_drug_LB'], evaluated_data['gpt3_5_turbo5']))\n",
    "print(classification_report(evaluated_data['is_drug_LB'], evaluated_data['gpt3_5_turbo6']))\n",
    "print(\"Classification report for gpt4 turbo\")\n",
    "print(classification_report(evaluated_data['is_drug_LB'], evaluated_data['gpt4_turbo']))\n",
    "print(classification_report(evaluated_data['is_drug_LB'], evaluated_data['gpt4_turbo2']))\n",
    "print(classification_report(evaluated_data['is_drug_LB'], evaluated_data['gpt4_turbo3']))\n",
    "# print(classification_report(evaluated_data['is_drug_LB'], evaluated_data['gpt4_turbo4']))\n",
    "# print(classification_report(evaluated_data['is_drug_LB'], evaluated_data['gpt4_turbo5']))\n",
    "\n",
    "# print(f\"Accuracy for gpt3.5 turbo: {accuracy_score(evaluated_data['is_drug_LB'], evaluated_data['gpt3_5_turbo'])}\")\n",
    "# print(f\"Accuracy for gpt4 turbo: {accuracy_score(evaluated_data['is_drug_LB'], evaluated_data['gpt4_turbo'])}\")"
   ]
  },
  {
   "cell_type": "code",
   "execution_count": null,
   "metadata": {},
   "outputs": [],
   "source": []
  }
 ],
 "metadata": {
  "kernelspec": {
   "display_name": "base",
   "language": "python",
   "name": "python3"
  },
  "language_info": {
   "codemirror_mode": {
    "name": "ipython",
    "version": 3
   },
   "file_extension": ".py",
   "mimetype": "text/x-python",
   "name": "python",
   "nbconvert_exporter": "python",
   "pygments_lexer": "ipython3",
   "version": "3.9.13"
  }
 },
 "nbformat": 4,
 "nbformat_minor": 2
}
