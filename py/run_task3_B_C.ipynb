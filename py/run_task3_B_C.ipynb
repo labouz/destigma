{
 "cells": [
  {
   "cell_type": "code",
   "execution_count": 1,
   "metadata": {},
   "outputs": [],
   "source": [
    "import pandas as pd\n",
    "import re\n",
    "from task3 import get_destigma\n",
    "from task3_C import get_destigma_style\n",
    "import concurrent.futures\n",
    "import json\n",
    "import openai\n",
    "from together import Together\n",
    "from pararallelize_task3 import process_posts_in_parallel\n",
    "\n",
    "with open('../data/secrets.json') as f:\n",
    "    secrets = json.load(f)\n",
    "\n",
    "api_key = secrets['OPENAI_API_KEY_SR']\n",
    "\n",
    "client = openai.Client(api_key=api_key)"
   ]
  },
  {
   "cell_type": "code",
   "execution_count": 2,
   "metadata": {},
   "outputs": [],
   "source": [
    "directed = pd.read_csv(\"../data/destigma_pipeline/task2/directed_stigma.csv\")"
   ]
  },
  {
   "cell_type": "markdown",
   "metadata": {},
   "source": [
    "---\n",
    "# De-stigma task 3B - Informed LLM (instruction, explanation, examples)"
   ]
  },
  {
   "cell_type": "code",
   "execution_count": null,
   "metadata": {},
   "outputs": [],
   "source": [
    "# explanation = \"\"\"\n",
    "# Labeling: uses the term \"drug addicts\" in a context that diminishes their achievements, \n",
    "# Stereotyping: implies that overcoming addiction does not require significant effort or commendation, Separation: sets a tone that those who \n",
    "# have overcome addiction are not deserving of praise, distinguishing them negatively from others, Discrimination: suggests that achievements in \n",
    "# recovery are not noteworthy, potentially discouraging recognition and support for those in recovery.\n",
    "# \"\"\"\n",
    "# labeling = explanation.split('Labeling: ')[1].split(',')[0]\n",
    "# stereotype = explanation.split('Stereotyping: ')[1].split(',')[0]\n",
    "# separation = explanation.split('Separation: ')[1].split(',')[0]\n",
    "# discrimination = explanation.split('Discrimination: ')[1].split(',')[0]\n",
    "# print(labeling)\n",
    "# print(stereotype)\n",
    "# print(separation)\n",
    "# print(discrimination)"
   ]
  },
  {
   "cell_type": "code",
   "execution_count": 2,
   "metadata": {},
   "outputs": [],
   "source": [
    "post1 = \"drug addicts who beat the addiction don't deserve major kudos. hey i've done the drugs, i did coke like nobodys business ive also done e, molly, shrooms,meth,speed, maybe a little bit more. and it was a lot of fun. you take them and you feel good and you have all the energy. which is great but at some point you have to stop. my mom was a drug addict, i grew up with my grandma but got really close to my my mom these past 13 years and now she wants to do drugs again....drugs suck\"\n",
    "explanation1 = \"Labeling: uses the term 'drug addicts' in a context that diminishes their achievements, Stereotyping: implies that overcoming addiction does not require significant effort or commendation, Separation: sets a tone that those who have overcome addiction are not deserving of praise, distinguishing them negatively from others, Discrimination: suggests that achievements in recovery are not noteworthy, potentially discouraging recognition and support for those in recovery.\"\n",
    "get_destigma(post1, explanation1, step=1, openai_client = client)"
   ]
  },
  {
   "cell_type": "code",
   "execution_count": 5,
   "metadata": {},
   "outputs": [],
   "source": [
    "# experiment with Llama-3-70b\n",
    "# get_destigma(post, explanation, step=1, model=\"meta-llama/Llama-3-8b-chat-hf\", openai_client = client)"
   ]
  },
  {
   "cell_type": "code",
   "execution_count": 3,
   "metadata": {},
   "outputs": [
    {
     "data": {
      "text/plain": [
       "\"people who overcome substance use disorders deserve recognition. i've used various substances in the past, and while they provided temporary enjoyment and energy, there comes a time to stop. my mom has a substance use disorder, and although i was raised by my grandma, i've grown much closer to my mom over the past 13 years. now, she's considering using again...substance use can have negative impacts.\""
      ]
     },
     "execution_count": 3,
     "metadata": {},
     "output_type": "execute_result"
    }
   ],
   "source": [
    "post1_a = \"people who overcome substance use disorders don't deserve major kudos. hey, i've used drugs, i did coke like nobody's business, i've also done e, molly, shrooms, meth, speed, maybe a little bit more. and it was a lot of fun. you take them and you feel good and you have all the energy. which is great but at some point you have to stop. my mom had a substance use disorder, i grew up with my grandma but got really close to my mom these past 13 years and now she wants to use drugs again...drugs suck.\"\n",
    "get_destigma(post1_a, explanation1, step=2, openai_client = client)"
   ]
  },
  {
   "cell_type": "code",
   "execution_count": 22,
   "metadata": {},
   "outputs": [],
   "source": [
    "# harder example\n",
    "post2 = \"Junkies have no place in our society In my opinion drug addicts belong to one of the lowest levels of society. Most of them voluntarily start taking drugs, thinking it's just an experiment and that they can stop. Bullshit. They end up being addicted, ruin their lives and lives of people around them. People try to help them, but it doesn't work or they don't care and deny their help. They don't contribute to our society in any way,they just take,take and take. I have no mercy and understanding for these kind of people and whatever bad happens to them, it's their fault. I'd even dare to say that they should be stripped of some rights, their addiction should be forever written somewhere in case someone would want to hire them in a future and those who cannot stop, even with help of others shouldn't have a right to live in our society.\"\n",
    "explanation2 = \"Labeling: Uses the term 'junkies,' a derogatory label, Stereotyping: Portrays people who use drugs as irresponsible and a burden on society, Separation: Explicitly states that people with addiction do not belong in society, Discrimination: Advocates for stripping rights and marking individuals with addiction, suggesting they should be treated differently and excluded from societal opportunities.\"\n",
    "get_destigma(post2, explanation2, step=1, openai_client = client)"
   ]
  },
  {
   "cell_type": "code",
   "execution_count": 9,
   "metadata": {},
   "outputs": [
    {
     "data": {
      "text/plain": [
       "\"people with substance use disorders are often misunderstood. many start using drugs thinking it's temporary or that they can stop anytime, but addiction can take hold, impacting their lives and the lives of those around them. despite efforts to assist them, recovery can be complex, and some may not accept help or might struggle with ongoing challenges. it's important to approach this issue with empathy and understanding, recognizing the difficulties faced by those with substance use disorders and considering how society can better support their recovery and integration.\""
      ]
     },
     "execution_count": 9,
     "metadata": {},
     "output_type": "execute_result"
    }
   ],
   "source": [
    "post2_a = \"people with substance use disorders have no place in our society. in my opinion, individuals struggling with drug addiction belong to one of the lowest levels of society. most of them voluntarily start taking drugs, thinking it's just an experiment and that they can stop. that's not true. they end up being addicted, ruin their lives and lives of people around them. people try to help them, but it doesn't work or they don't care and deny their help. they don't contribute to our society in any way, they just take, take, and take. i have no mercy and understanding for these individuals and whatever bad happens to them, it's their fault. i'd even dare to say that they should be stripped of some rights, their addiction should be forever noted somewhere in case someone would want to hire them in the future and those who cannot stop, even with the help of others, shouldn't have the right to live in our society.\"\n",
    "get_destigma(post2_a, explanation2, step=2, openai_client = client)"
   ]
  },
  {
   "cell_type": "code",
   "execution_count": 21,
   "metadata": {},
   "outputs": [],
   "source": [
    "# example 3\n",
    "post3 = \"I have zero empathy for drug addicts I have had friends and family members who have struggled with the \\\"disease\\\" but I have a hard time feeling bad for them for their own personal choice. I wish I could understand how it feels to be in their shoes but I just can't. Everyone knows what happens when you start, and you usually end up dead. Many of my old friends have become addicts and I don't understand especially the ones with kids. I'm so sick of them patting themselves on the back for being \\\"clean\\\" a whole week knowing they won't ever make it past that. Your 'sobriety' isn't impressive.\"\n",
    "explanation3 = \"Labeling: Uses the term 'drug addicts' in a dismissive tone, Stereotyping: Assumes that all individuals with addiction make a personal choice and are likely to fail in recovery, Separation: Expresses a lack of empathy and understanding, distancing themselves from those with addiction, Discrimination: Discredits efforts at sobriety, suggesting it's not worthy of recognition or support.\"\n",
    "get_destigma(post3, explanation3, step=1, openai_client = client)"
   ]
  },
  {
   "cell_type": "code",
   "execution_count": 12,
   "metadata": {},
   "outputs": [
    {
     "data": {
      "text/plain": [
       "'i find it challenging to empathize with individuals struggling with substance use disorders, despite having friends and family members who have faced these challenges. i struggle to understand what i perceive as their personal choice. i wish i could see their perspective more clearly, but it\\'s difficult for me. the potential consequences of substance use are well-documented, yet many of my old friends have developed these disorders, and it\\'s particularly hard to understand when they have children. i also find it hard to share their enthusiasm for milestones like being \"clean\" for a week, as i remain skeptical about the sustainability of their recovery. their efforts at sobriety don\\'t resonate with me.'"
      ]
     },
     "execution_count": 12,
     "metadata": {},
     "output_type": "execute_result"
    }
   ],
   "source": [
    "post3_a = 'i have zero empathy for individuals struggling with substance use disorders. i have had friends and family members who have faced these challenges, but i find it difficult to sympathize with what i see as their personal choice. i wish i could understand their perspective, but i find it hard. it\\'s widely known what the consequences of starting can be, often leading to tragic outcomes. many of my old friends have developed these disorders, and i find it hard to comprehend, especially those with children. i\\'m tired of hearing them celebrate being \"clean\" for just a week, skeptical that they can maintain it. their efforts at sobriety don\\'t impress me.'\n",
    "get_destigma(post3_a, explanation3, step=2, openai_client = client)"
   ]
  },
  {
   "cell_type": "code",
   "execution_count": 3,
   "metadata": {},
   "outputs": [
    {
     "data": {
      "text/plain": [
       "\"Labeling:  The post uses derogatory terms such as 'dumb fuck', 'weak', 'dirty', 'stupid people', and 'druggie' to describe individuals with substance use disorders. Stereotyping:  It reinforces negative stereotypes by suggesting that all individuals who use drugs are weak, dirty, and stupid. Separation:  The post creates a divide by expressing a lack of sympathy and a sense of superiority over those who use drugs. Discrimination:  It suggests that individuals who use drugs deserve to suffer consequences without empathy or support, which promotes discriminatory attitudes and behaviors.\""
      ]
     },
     "execution_count": 3,
     "metadata": {},
     "output_type": "execute_result"
    }
   ],
   "source": [
    "# standardize Explanations\n",
    "# remove any characters before Labeling, Stereotyping, Separation, Discrimination\n",
    "# remove any **, *, or other formatting around the terms\n",
    "\n",
    "example = \"**Labeling:** The post uses terms like 'perpetual child' and 'tantrum-throwing animal' to describe the wife, which are derogatory and reduce her identity to her struggles with substance use.\\n\\n**Stereotyping:** The post reinforces the stereotype that individuals with addiction are irresponsible and solely to blame for their circumstances and the impact on others.\\n\\n**Separation:** The author creates a divide between himself and his wife, emphasizing her as the problem and himself as the victim, which fosters a sense of 'us' versus 'them.'\\n\\n**Discrimination:** The post suggests that the wife should be isolated or removed from the home environment as a solution, indicating a belief in exclusion as a way to handle the situation, which can lead to discriminatory attitudes and behaviors towards her.\"\n",
    "example2 = \"- **Labeling:** The post uses derogatory terms such as 'dumb fuck', 'weak', 'dirty', 'stupid people', and 'druggie' to describe individuals with substance use disorders.\\n- **Stereotyping:** It reinforces negative stereotypes by suggesting that all individuals who use drugs are weak, dirty, and stupid.\\n- **Separation:** The post creates a divide by expressing a lack of sympathy and a sense of superiority over those who use drugs.\\n- **Discrimination:** It suggests that individuals who use drugs deserve to suffer consequences without empathy or support, which promotes discriminatory attitudes and behaviors.\"\n",
    "\n",
    "import re\n",
    "\n",
    "def clean_explanation(text):\n",
    "    cleaned_text = re.sub(r'\\*\\*', ' ', text)\n",
    "    # Remove markdown list formatting '-'\n",
    "    cleaned_text = re.sub(r'\\s*-\\s*', ' ', cleaned_text)\n",
    "    # Remove newline characters '\\n'\n",
    "    cleaned_text = re.sub(r'\\n+', ' ', cleaned_text).strip()\n",
    "    return cleaned_text\n",
    "\n",
    "clean_explanation(example2)"
   ]
  },
  {
   "cell_type": "code",
   "execution_count": 4,
   "metadata": {},
   "outputs": [],
   "source": [
    "directed['stigmaExplanation_clean'] = directed[\"stigmaExplanation\"].apply(lambda x: clean_explanation(x))"
   ]
  },
  {
   "cell_type": "markdown",
   "metadata": {},
   "source": [
    "---\n",
    "### Strategy B: Informed LLM"
   ]
  },
  {
   "cell_type": "code",
   "execution_count": 4,
   "metadata": {},
   "outputs": [
    {
     "name": "stdout",
     "output_type": "stream",
     "text": [
      "800695\n",
      "TPM limit reached. Pausing for a minute...\n",
      "807002\n",
      "TPM limit reached. Pausing for a minute...\n",
      "800400\n",
      "TPM limit reached. Pausing for a minute...\n",
      "800356\n",
      "TPM limit reached. Pausing for a minute...\n"
     ]
    }
   ],
   "source": [
    "directed[\"destigma_B_step1\"] = process_posts_in_parallel(directed[\"text\"], directed[\"stigmaExplanation_clean\"], step=1, task = get_destigma, model=\"gpt-4-turbo-2024-04-09\", client = client)"
   ]
  },
  {
   "cell_type": "code",
   "execution_count": 6,
   "metadata": {},
   "outputs": [],
   "source": [
    "directed.to_csv(\"../data/destigma_pipeline/task3/directed_destigma_1.csv\", index=False)"
   ]
  },
  {
   "cell_type": "code",
   "execution_count": 7,
   "metadata": {},
   "outputs": [
    {
     "name": "stdout",
     "output_type": "stream",
     "text": [
      "800864\n",
      "TPM limit reached. Pausing for a minute...\n",
      "801854\n",
      "TPM limit reached. Pausing for a minute...\n",
      "800124\n",
      "TPM limit reached. Pausing for a minute...\n",
      "802782\n",
      "TPM limit reached. Pausing for a minute...\n"
     ]
    }
   ],
   "source": [
    "directed[\"destigma_B_step2\"] = process_posts_in_parallel(directed[\"destigma_B_step1\"], directed[\"stigmaExplanation_clean\"], step=2, task = get_destigma, model=\"gpt-4-turbo-2024-04-09\", client = client)"
   ]
  },
  {
   "cell_type": "code",
   "execution_count": 8,
   "metadata": {},
   "outputs": [],
   "source": [
    "directed.to_csv(\"../data/destigma_pipeline/task3/directed_destigma_2.csv\", index=False)"
   ]
  },
  {
   "cell_type": "markdown",
   "metadata": {},
   "source": [
    "---\n",
    "### Task 3B with Llama"
   ]
  },
  {
   "cell_type": "code",
   "execution_count": 2,
   "metadata": {},
   "outputs": [],
   "source": [
    "# together.ai key\n",
    "together_key = secrets['TOGETHER_API']\n",
    "client = Together(api_key= together_key)"
   ]
  },
  {
   "cell_type": "code",
   "execution_count": 6,
   "metadata": {},
   "outputs": [
    {
     "name": "stdout",
     "output_type": "stream",
     "text": [
      "Rate limit reached. Pausing for a minute...\n",
      "800110\n",
      "TPM limit reached. Pausing for a minute...\n",
      "802038\n",
      "TPM limit reached. Pausing for a minute...\n",
      "Rate limit reached. Pausing for a minute...\n",
      "801478\n",
      "TPM limit reached. Pausing for a minute...\n",
      "Rate limit reached. Pausing for a minute...\n"
     ]
    }
   ],
   "source": [
    "directed[\"destigma_B_step1_Llama\"] = process_posts_in_parallel(directed[\"text\"], directed[\"stigmaExplanation_clean\"], step=1, task = get_destigma, model=\"meta-llama/Llama-3-8b-chat-hf\", client = client)"
   ]
  },
  {
   "cell_type": "code",
   "execution_count": 7,
   "metadata": {},
   "outputs": [
    {
     "name": "stdout",
     "output_type": "stream",
     "text": [
      "825459\n",
      "TPM limit reached. Pausing for a minute...\n",
      "Rate limit reached. Pausing for a minute...\n",
      "800704\n",
      "TPM limit reached. Pausing for a minute...\n",
      "802621\n",
      "TPM limit reached. Pausing for a minute...\n",
      "Rate limit reached. Pausing for a minute...\n",
      "800061\n",
      "TPM limit reached. Pausing for a minute...\n",
      "Rate limit reached. Pausing for a minute...\n",
      "800016\n",
      "TPM limit reached. Pausing for a minute...\n"
     ]
    }
   ],
   "source": [
    "directed[\"destigma_B_step2_Llama\"] = process_posts_in_parallel(directed[\"destigma_B_step1_Llama\"], directed[\"stigmaExplanation_clean\"], step=2, task = get_destigma, model=\"meta-llama/Llama-3-8b-chat-hf\", client = client)"
   ]
  },
  {
   "cell_type": "code",
   "execution_count": 8,
   "metadata": {},
   "outputs": [],
   "source": [
    "directed.to_csv(\"../data/destigma_pipeline/task3/directed_destigma_llamaB.csv\", index=False)"
   ]
  },
  {
   "cell_type": "markdown",
   "metadata": {},
   "source": [
    "---\n",
    "# Destigma Task 3C - B with stylisting in elements preserved\n",
    "\n",
    "elements:\n",
    "- tone\n",
    "- use of punctuation\n",
    "- active versus passive voice\n",
    "- varied sentence lengths \n",
    "- flow\n",
    "- variety of word use"
   ]
  },
  {
   "cell_type": "code",
   "execution_count": 10,
   "metadata": {},
   "outputs": [],
   "source": [
    "# extract stylistic elements from post1\n",
    "post1 = \"drug addicts who beat the addiction don't deserve major kudos. hey i've done the drugs, i did coke like nobodys business ive also done e, molly, shrooms,meth,speed, maybe a little bit more. and it was a lot of fun. you take them and you feel good and you have all the energy. which is great but at some point you have to stop. my mom was a drug addict, i grew up with my grandma but got really close to my my mom these past 13 years and now she wants to do drugs again....drugs suck\""
   ]
  },
  {
   "cell_type": "code",
   "execution_count": 11,
   "metadata": {},
   "outputs": [
    {
     "name": "stderr",
     "output_type": "stream",
     "text": [
      "Xformers is not installed correctly. If you want to use memory_efficient_attention to accelerate training use the following command to install Xformers\n",
      "pip install xformers.\n"
     ]
    },
    {
     "data": {
      "text/plain": [
       "{'top emotions': 'joy, approval, amusement',\n",
       " 'punctuation_usage': \"moderate, with ', ,, . being most frequent\",\n",
       " 'passive_voice_usage': 'none',\n",
       " 'sentence_length_variation': 'ranging from short (7 words) to long (33 words) with an average of 16.0 words per sentence',\n",
       " 'lexical_diversity': '112.00 (MTLD)'}"
      ]
     },
     "execution_count": 11,
     "metadata": {},
     "output_type": "execute_result"
    }
   ],
   "source": [
    "import get_style\n",
    "\n",
    "# apply classifier to post1\n",
    "get_style.analyze_text_llm(post1)"
   ]
  },
  {
   "cell_type": "code",
   "execution_count": 16,
   "metadata": {},
   "outputs": [
    {
     "name": "stdout",
     "output_type": "stream",
     "text": [
      "{'emotions': 'joy, approval, amusement', 'punctuation_usage': \"moderate, with ', ,, . being most frequent\", 'passive_voice_usage': 'none', 'sentence_length_variation': 'ranging from short (7 words) to long (33 words) with an average of 16.0 words per sentence', 'lexical_diversity': '112.00 (MTLD)'}\n"
     ]
    }
   ],
   "source": [
    "analysis_results = get_style.analyze_text_llm(post1)\n",
    "print(analysis_results)\n",
    "analysis_results = analysis_results.__str__()"
   ]
  },
  {
   "cell_type": "code",
   "execution_count": 23,
   "metadata": {},
   "outputs": [
    {
     "name": "stdout",
     "output_type": "stream",
     "text": [
      "huggingface/tokenizers: The current process just got forked, after parallelism has already been used. Disabling parallelism to avoid deadlocks...\n",
      "To disable this warning, you can either:\n",
      "\t- Avoid using `tokenizers` before the fork if possible\n",
      "\t- Explicitly set the environment variable TOKENIZERS_PARALLELISM=(true | false)\n"
     ]
    },
    {
     "data": {
      "text/plain": [
       "\"people who overcome their substance use issues don't deserve major kudos. hey, i've done drugs, i did coke like nobody's business. i've also done e, molly, shrooms, meth, speed, maybe a little bit more. and it was a lot of fun. you take them and you feel good and you have all the energy, which is great but at some point you have to stop. my mom had a substance use disorder, i grew up with my grandma but got really close to my mom these past 13 years and now she wants to use drugs again...drugs suck.\""
      ]
     },
     "execution_count": 23,
     "metadata": {},
     "output_type": "execute_result"
    }
   ],
   "source": [
    "get_destigma_style(post1, explanation1, step=1, style_instruct=analysis_results, openai_client=client)"
   ]
  },
  {
   "cell_type": "code",
   "execution_count": 24,
   "metadata": {},
   "outputs": [
    {
     "data": {
      "text/plain": [
       "\"people who overcome substance use issues deserve recognition. hey, i've used drugs; i did coke extensively. i've also used ecstasy, molly, shrooms, meth, speed, and maybe a bit more. it was enjoyable. you take them, feel good, and have lots of energy, which is great. but eventually, you have to stop. my mom had a substance use disorder; i grew up with my grandma but got really close to my mom these past 13 years, and now she's considering using again...drugs are challenging.\""
      ]
     },
     "execution_count": 24,
     "metadata": {},
     "output_type": "execute_result"
    }
   ],
   "source": [
    "post1_c2 = \"people who overcome substance use issues don't deserve major kudos. hey, i've done drugs, i did coke like nobody's business. i've also done e, molly, shrooms, meth, speed, maybe a little bit more. and it was a lot of fun. you take them and you feel good and you have all the energy. which is great, but at some point, you have to stop. my mom had a substance use disorder; i grew up with my grandma but got really close to my mom these past 13 years, and now she wants to use drugs again...drugs suck.\"\n",
    "analysis_results2 = get_style.analyze_text_llm(post1_c2)\n",
    "analysis_results2 = analysis_results2.__str__()\n",
    "\n",
    "get_destigma_style(post1_c2, explanation1, step=2, style_instruct=analysis_results2, openai_client=client)"
   ]
  },
  {
   "cell_type": "code",
   "execution_count": 17,
   "metadata": {},
   "outputs": [
    {
     "data": {
      "text/plain": [
       "\"people with substance use disorders are often seen as having no place in our society. in my opinion, individuals struggling with drug dependency are often placed at one of the lowest levels of society. many start using drugs voluntarily, thinking it's just an experiment and that they can stop. that's not the case. they end up developing an addiction, ruining their lives and the lives of those around them. efforts to help them often fail, or they refuse and deny the assistance offered. they are perceived as not contributing to our society in any way; they just take, take, and take. i have no sympathy or understanding for these individuals, and whatever negative consequences befall them, it's their own doing. i'd even go so far as to say that they should be stripped of some rights, their history of addiction should be permanently noted in case someone would want to hire them in the future, and those who cannot stop, even with the help of others, should not have the right to live in our society.\""
      ]
     },
     "execution_count": 17,
     "metadata": {},
     "output_type": "execute_result"
    }
   ],
   "source": [
    "# post 2\n",
    "analysis_results = get_style.analyze_text_llm(post2)\n",
    "analysis_results = analysis_results.__str__()\n",
    "\n",
    "get_destigma_style(post2, explanation2, step=1, style_instruct=analysis_results, openai_client=client)"
   ]
  },
  {
   "cell_type": "code",
   "execution_count": 18,
   "metadata": {},
   "outputs": [
    {
     "data": {
      "text/plain": [
       "\"people with substance use disorders are often viewed unfavorably in our society. in my opinion, individuals struggling with drug dependency are frequently marginalized. many begin using drugs voluntarily, thinking it's just an experiment and that they can stop. unfortunately, this is often not the case. they end up developing a dependency, which can negatively impact their lives and the lives of those around them. efforts to assist them often fail, or they may refuse and deny the assistance offered. they are perceived as not contributing positively to our society. i find it difficult to sympathize or understand these individuals, and believe that the negative consequences they face are often a result of their own actions. i would even suggest that their history of addiction should be noted for future reference in employment contexts, and those who cannot stop, even with help, face significant challenges in integrating into our society.\""
      ]
     },
     "execution_count": 18,
     "metadata": {},
     "output_type": "execute_result"
    }
   ],
   "source": [
    "post2_c2 = \"people with substance use disorders are often seen as having no place in our society. in my opinion, individuals struggling with drug dependency are often placed at one of the lowest levels of society. many start using drugs voluntarily, thinking it's just an experiment and that they can stop. that's not the case. they end up developing an addiction, ruining their lives and the lives of those around them. efforts to help them often fail, or they refuse and deny the assistance offered. they are perceived as not contributing to our society in any way; they just take, take, and take. i have no sympathy or understanding for these individuals, and whatever negative consequences befall them, it's their own doing. i'd even go so far as to say that they should be stripped of some rights, their history of addiction should be permanently noted in case someone would want to hire them in the future, and those who cannot stop, even with the help of others, should not have the right to live in our society.\"\n",
    "analysis_results2 = get_style.analyze_text_llm(post2_c2)\n",
    "analysis_results2 = analysis_results2.__str__()\n",
    "\n",
    "get_destigma_style(post2_c2, explanation2, step=2, style_instruct=analysis_results2, openai_client=client)"
   ]
  },
  {
   "cell_type": "code",
   "execution_count": 19,
   "metadata": {},
   "outputs": [
    {
     "data": {
      "text/plain": [
       "\"i have zero empathy for individuals struggling with substance use. i have had friends and family members who have faced this challenge, but i find it hard to sympathize with what i see as their personal choice. i wish i could understand their perspective, but i just can't. everyone knows the risks involved from the start, and it often ends tragically. many of my old friends have struggled with this issue, and i find it particularly hard to comprehend when they have children. i'm so tired of them congratulating themselves for managing a week of sobriety, knowing they likely won't maintain it. your 'sobriety' isn't impressive.\""
      ]
     },
     "execution_count": 19,
     "metadata": {},
     "output_type": "execute_result"
    }
   ],
   "source": [
    "# post3\n",
    "analysis_results = get_style.analyze_text_llm(post3)\n",
    "analysis_results = analysis_results.__str__()\n",
    "\n",
    "get_destigma_style(post3, explanation3, step=1, style_instruct=analysis_results, openai_client=client)"
   ]
  },
  {
   "cell_type": "code",
   "execution_count": 20,
   "metadata": {},
   "outputs": [
    {
     "data": {
      "text/plain": [
       "\"i find it difficult to empathize with individuals facing substance use challenges. i have friends and family members who have encountered these difficulties, yet i struggle to sympathize with what appears to me as their personal choice. i wish i could grasp their perspective, but i find it elusive. it's widely acknowledged that there are risks involved from the outset, and the outcomes are often heartbreaking. several of my old friends have dealt with these challenges, and it's particularly perplexing to me when they are parents. i'm exhausted by their self-praise for achieving a week of sobriety, especially when it seems they might not sustain it. your 'sobriety' doesn't seem significant to me.\""
      ]
     },
     "execution_count": 20,
     "metadata": {},
     "output_type": "execute_result"
    }
   ],
   "source": [
    "post3_c2 = \"i have zero empathy for individuals struggling with substance use. i have had friends and family members who have faced this challenge, but i find it hard to sympathize with what i see as their personal choice. i wish i could understand their perspective, but i just can't. everyone knows the risks involved from the start, and it often ends tragically. many of my old friends have struggled with this issue, and i find it particularly hard to comprehend when they have children. i'm so tired of them congratulating themselves for managing a week of sobriety, knowing they likely won't maintain it. your 'sobriety' isn't impressive.\"\n",
    "analysis_results2 = get_style.analyze_text_llm(post3_c2)\n",
    "analysis_results2 = analysis_results2.__str__()\n",
    "\n",
    "get_destigma_style(post3_c2, explanation3, step=2, style_instruct=analysis_results2, openai_client=client)"
   ]
  },
  {
   "cell_type": "markdown",
   "metadata": {},
   "source": [
    "---\n",
    "## RUN ON WHOLE DATASET"
   ]
  },
  {
   "cell_type": "code",
   "execution_count": 2,
   "metadata": {},
   "outputs": [],
   "source": [
    "directed = pd.read_csv(\"../data/destigma_pipeline/task3/directed_destigma_2.csv\")"
   ]
  },
  {
   "cell_type": "code",
   "execution_count": 16,
   "metadata": {},
   "outputs": [
    {
     "data": {
      "text/plain": [
       "str"
      ]
     },
     "execution_count": 16,
     "metadata": {},
     "output_type": "execute_result"
    }
   ],
   "source": [
    "# directed['style_profile'] = directed['text'].apply(lambda x: get_style.analyze_text_llm(x).__str__())\n",
    "# directed['style_profile_s'] = directed['style_profile'].apply(lambda x: str(x))\n",
    "\n",
    "# get type of style profile\n",
    "# type(directed['style_profile_s'][0])\n"
   ]
  },
  {
   "cell_type": "code",
   "execution_count": 9,
   "metadata": {},
   "outputs": [],
   "source": [
    "directed.to_csv(\"../data/destigma_pipeline/task3/directed_destigma_3.csv\", index=False)"
   ]
  },
  {
   "cell_type": "code",
   "execution_count": 3,
   "metadata": {},
   "outputs": [],
   "source": [
    "directed = pd.read_csv(\"../data/destigma_pipeline/task3/directed_destigma_3.csv\")"
   ]
  },
  {
   "cell_type": "code",
   "execution_count": 5,
   "metadata": {},
   "outputs": [
    {
     "name": "stdout",
     "output_type": "stream",
     "text": [
      "Post at index 82 generated an exception: list index out of range\n",
      "Post at index 89 generated an exception: list index out of range\n",
      "Post at index 128 generated an exception: list index out of range\n",
      "800434\n",
      "TPM limit reached. Pausing for a minute...\n",
      "802737\n",
      "TPM limit reached. Pausing for a minute...\n",
      "801656\n",
      "TPM limit reached. Pausing for a minute...\n",
      "Post at index 1390 generated an exception: list index out of range\n",
      "Post at index 1412 generated an exception: list index out of range\n",
      "Post at index 1543 generated an exception: list index out of range\n",
      "Post at index 1562 generated an exception: list index out of range\n",
      "Post at index 1579 generated an exception: list index out of range\n",
      "802054\n",
      "TPM limit reached. Pausing for a minute...\n",
      "Post at index 1662 generated an exception: list index out of range\n",
      "Post at index 1846 generated an exception: list index out of range\n",
      "Post at index 1918 generated an exception: list index out of range\n",
      "Post at index 1944 generated an exception: list index out of range\n"
     ]
    }
   ],
   "source": [
    "from task3_C import get_destigma_style\n",
    "\n",
    "directed[\"destigma_C_step1\"] = process_posts_in_parallel(posts = directed[\"text\"].to_list(),  explanations = directed[\"stigmaExplanation_clean\"].to_list(), instructions = directed[\"style_profile\"].to_list(), step=1, task = get_destigma_style, model=\"gpt-4-turbo-2024-04-09\", client = client)\n"
   ]
  },
  {
   "cell_type": "code",
   "execution_count": null,
   "metadata": {},
   "outputs": [],
   "source": [
    "# sample = directed.sample(10)\n",
    "# sample[\"destigma_C_step1\"] = process_posts_in_parallel(posts = sample[\"text\"].to_list(), explanations = sample[\"stigmaExplanation_clean\"].to_list(), instructions = sample[\"style_profile\"].to_list(), step=1, task = get_destigma_style, model=\"gpt-4-turbo-2024-04-09\", client = client)"
   ]
  },
  {
   "cell_type": "code",
   "execution_count": 6,
   "metadata": {},
   "outputs": [],
   "source": [
    "directed.to_csv(\"../data/destigma_pipeline/task3/directed_destigma_4.csv\", index=False)"
   ]
  },
  {
   "cell_type": "code",
   "execution_count": 7,
   "metadata": {},
   "outputs": [
    {
     "name": "stdout",
     "output_type": "stream",
     "text": [
      "801492\n",
      "TPM limit reached. Pausing for a minute...\n",
      "Post at index 89 generated an exception: list index out of range\n",
      "801027\n",
      "TPM limit reached. Pausing for a minute...\n",
      "800396\n",
      "TPM limit reached. Pausing for a minute...\n",
      "812724\n",
      "TPM limit reached. Pausing for a minute...\n",
      "Post at index 1390 generated an exception: list index out of range\n",
      "Post at index 1412 generated an exception: list index out of range\n",
      "Post at index 1543 generated an exception: list index out of range\n",
      "800785\n",
      "TPM limit reached. Pausing for a minute...\n",
      "Post at index 1562 generated an exception: list index out of range\n",
      "Post at index 1579 generated an exception: list index out of range\n",
      "Post at index 1662 generated an exception: list index out of range\n",
      "Post at index 1918 generated an exception: list index out of range\n",
      "800321Post at index 1944 generated an exception: list index out of range\n",
      "\n",
      "TPM limit reached. Pausing for a minute...\n"
     ]
    }
   ],
   "source": [
    "directed[\"destigma_C_step2\"] = process_posts_in_parallel(posts = directed[\"destigma_C_step1\"].to_list(), explanations = directed[\"stigmaExplanation_clean\"].to_list(), instructions = directed[\"style_profile\"].to_list(), step=2, task = get_destigma_style, model=\"gpt-4-turbo-2024-04-09\", client = client)"
   ]
  },
  {
   "cell_type": "code",
   "execution_count": 14,
   "metadata": {},
   "outputs": [],
   "source": [
    "directed.to_csv(\"../data/destigma_pipeline/task3/directed_destigma_gpt_all.csv\", index=False)"
   ]
  },
  {
   "cell_type": "code",
   "execution_count": 3,
   "metadata": {},
   "outputs": [
    {
     "name": "stderr",
     "output_type": "stream",
     "text": [
      "Xformers is not installed correctly. If you want to use memory_efficient_attention to accelerate training use the following command to install Xformers\n",
      "pip install xformers.\n"
     ]
    }
   ],
   "source": [
    "# for llama\n",
    "from pararallelize_task3C import process_posts_in_parallel\n",
    "from task3_C import get_destigma_style\n",
    "import get_style\n",
    "\n",
    "\n",
    "directed = pd.read_csv(\"../data/destigma_pipeline/task3/directed_destigma_llamaB.csv\")\n",
    "directed['style_profile'] = directed['text'].apply(lambda x: get_style.analyze_text_llm(x).__str__())\n"
   ]
  },
  {
   "cell_type": "code",
   "execution_count": 4,
   "metadata": {},
   "outputs": [
    {
     "name": "stdout",
     "output_type": "stream",
     "text": [
      "Post at index 82 generated an exception: list index out of range\n",
      "Post at index 89 generated an exception: list index out of range\n",
      "Post at index 128 generated an exception: list index out of range\n",
      "801399\n",
      "TPM limit reached. Pausing for a minute...\n",
      "800866\n",
      "TPM limit reached. Pausing for a minute...\n",
      "800053\n",
      "TPM limit reached. Pausing for a minute...\n",
      "Post at index 1390 generated an exception: list index out of range\n",
      "Post at index 1412 generated an exception: list index out of range\n",
      "Post at index 1543 generated an exception: list index out of range\n",
      "Post at index 1562 generated an exception: list index out of range\n",
      "Post at index 1579 generated an exception: list index out of range\n",
      "Post at index 1662 generated an exception: list index out of range\n",
      "800214\n",
      "TPM limit reached. Pausing for a minute...\n",
      "Post at index 1846 generated an exception: list index out of range\n",
      "Post at index 1918 generated an exception: list index out of range\n",
      "Post at index 1944 generated an exception: list index out of range\n"
     ]
    }
   ],
   "source": [
    "directed[\"destigma_C_step1_Llama\"] = process_posts_in_parallel(posts = directed[\"text\"].to_list(),  explanations = directed[\"stigmaExplanation_clean\"].to_list(), instructions = directed[\"style_profile\"].to_list(), step=1, task = get_destigma_style, model=\"meta-llama/Llama-3-8b-chat-hf\", client = client)"
   ]
  },
  {
   "cell_type": "code",
   "execution_count": 5,
   "metadata": {},
   "outputs": [
    {
     "name": "stdout",
     "output_type": "stream",
     "text": [
      "Post at index 89 generated an exception: list index out of range\n",
      "800089\n",
      "TPM limit reached. Pausing for a minute...\n",
      "800660\n",
      "TPM limit reached. Pausing for a minute...\n",
      "802161\n",
      "TPM limit reached. Pausing for a minute...\n",
      "Post at index 1390 generated an exception: list index out of range\n",
      "Post at index 1412 generated an exception: list index out of range\n",
      "Post at index 1543 generated an exception: list index out of range\n",
      "Post at index 1562 generated an exception: list index out of range\n",
      "Post at index 1579 generated an exception: list index out of range\n",
      "801339\n",
      "TPM limit reached. Pausing for a minute...\n",
      "Post at index 1662 generated an exception: list index out of range\n",
      "Post at index 1918 generated an exception: list index out of range\n",
      "Post at index 1944 generated an exception: list index out of range\n"
     ]
    }
   ],
   "source": [
    "directed[\"destigma_C_step2_Llama\"] = process_posts_in_parallel(posts = directed[\"destigma_C_step1_Llama\"].to_list(), explanations = directed[\"stigmaExplanation_clean\"].to_list(), instructions = directed[\"style_profile\"].to_list(), step=2, task = get_destigma_style, model=\"meta-llama/Llama-3-8b-chat-hf\", client = client)"
   ]
  },
  {
   "cell_type": "code",
   "execution_count": 6,
   "metadata": {},
   "outputs": [],
   "source": [
    "directed.to_csv(\"../data/destigma_pipeline/task3/directed_destigma_llama_all.csv\", index=False)"
   ]
  },
  {
   "cell_type": "markdown",
   "metadata": {},
   "source": [
    "---\n",
    "## JUNK"
   ]
  },
  {
   "cell_type": "code",
   "execution_count": null,
   "metadata": {},
   "outputs": [],
   "source": [
    "import nltk\n",
    "from nltk.tokenize import sent_tokenize, word_tokenize\n",
    "from nltk import pos_tag\n",
    "from textblob import TextBlob\n",
    "import string\n",
    "\n",
    "# def analyze_text(text):\n",
    "#     # Tokenize sentences and words\n",
    "#     sentences = sent_tokenize(text)\n",
    "#     words = word_tokenize(text)\n",
    "\n",
    "#     # Tone analysis using TextBlob\n",
    "#     blob = TextBlob(text)\n",
    "#     sentiment = blob.sentiment\n",
    "\n",
    "#     # Punctuation analysis\n",
    "#     punctuation = {key: text.count(key) for key in string.punctuation}\n",
    "\n",
    "#     # Active vs. Passive Voice\n",
    "#     def is_passive(sentence):\n",
    "#         tagged = pos_tag(word_tokenize(sentence))\n",
    "#         passive = False\n",
    "#         for i in range(len(tagged) - 1):\n",
    "#             if tagged[i][1] in ['was', 'were'] and tagged[i+1][1] == 'VBN':\n",
    "#                 passive = True\n",
    "#         return passive\n",
    "\n",
    "#     passive_sentences = sum(is_passive(sentence) for sentence in sentences)\n",
    "\n",
    "#     # Sentence length variability\n",
    "#     sentence_lengths = [len(s.split()) for s in sentences]\n",
    "\n",
    "#     # Flow (Readability Score - Flesch)\n",
    "#     readability = blob.sentences[0].sentiment.subjectivity \n",
    "\n",
    "#     # Lexical diversity\n",
    "#     lexical_diversity = len(set(words)) / len(words)\n",
    "\n",
    "#     results = {\n",
    "#         \"tone\": sentiment,\n",
    "#         \"punctuation\": punctuation,\n",
    "#         \"passive_sentences\": passive_sentences,\n",
    "#         \"sentence_length_stats\": {\n",
    "#             \"min\": min(sentence_lengths),\n",
    "#             \"max\": max(sentence_lengths),\n",
    "#             \"average\": sum(sentence_lengths) / len(sentence_lengths)\n",
    "#         },\n",
    "#         \"flow\": readability,\n",
    "#         \"lexical_diversity\": lexical_diversity\n",
    "#     }\n",
    "\n",
    "#     return results\n",
    "\n",
    "# analysis_results = analyze_text(post1)\n",
    "# print(analysis_results)"
   ]
  },
  {
   "cell_type": "code",
   "execution_count": null,
   "metadata": {},
   "outputs": [
    {
     "name": "stdout",
     "output_type": "stream",
     "text": [
      "[('tone', 'positive'), ('punctuation_usage', \"moderate, with ', ,, . being most frequent\"), ('passive_voice_usage', 'none'), ('sentence_length_variation', 'ranging from short (7 words) to long (33 words) with an average of 16.0 words per sentence'), ('lexical_diversity', 'moderately high')]\n"
     ]
    }
   ],
   "source": [
    "def analyze_text_llm(text):\n",
    "    # Tokenize sentences and words\n",
    "    sentences = sent_tokenize(text)\n",
    "    words = word_tokenize(text)\n",
    "\n",
    "    # Tone analysis using TextBlob\n",
    "    blob = TextBlob(text)\n",
    "    sentiment = blob.sentiment\n",
    "\n",
    "    # Determining tone description\n",
    "    tone_description = \"positive\" if sentiment.polarity > 0 else \"negative\"\n",
    "\n",
    "    # Punctuation analysis\n",
    "    punctuation_counts = {key: text.count(key) for key in string.punctuation}\n",
    "    common_punctuation = ', '.join([p for p, count in punctuation_counts.items() if count > 0])\n",
    "\n",
    "    # Active vs. Passive Voice\n",
    "    def is_passive(sentence):\n",
    "        tagged = pos_tag(word_tokenize(sentence))\n",
    "        passive = False\n",
    "        for i in range(len(tagged) - 1):\n",
    "            if tagged[i][1] in ['was', 'were'] and tagged[i+1][1] == 'VBN':\n",
    "                passive = True\n",
    "        return passive\n",
    "\n",
    "    passive_sentences = sum(is_passive(sentence) for sentence in sentences)\n",
    "    passive_voice_usage = \"none\" if passive_sentences == 0 else \"some\"\n",
    "\n",
    "    # Sentence length variability\n",
    "    sentence_lengths = [len(s.split()) for s in sentences]\n",
    "    min_length = min(sentence_lengths)\n",
    "    max_length = max(sentence_lengths)\n",
    "    average_length = sum(sentence_lengths) / len(sentence_lengths)\n",
    "\n",
    "    # Lexical diversity\n",
    "    lexical_diversity_score = len(set(words)) / len(words)\n",
    "    lexical_diversity_description = \"moderately high\" if lexical_diversity_score > 0.5 else \"low\"\n",
    "\n",
    "    results = [\n",
    "        (\"tone\", tone_description),\n",
    "        (\"punctuation_usage\", f\"moderate, with {common_punctuation} being most frequent\"),\n",
    "        (\"passive_voice_usage\", passive_voice_usage),\n",
    "        (\"sentence_length_variation\", f\"ranging from short ({min_length} words) to long ({max_length} words) with an average of {average_length:.1f} words per sentence\"),\n",
    "        (\"lexical_diversity\", lexical_diversity_description)\n",
    "    ]\n",
    "\n",
    "    return results\n",
    "\n",
    "# analysis_results = analyze_text_llm(post1)\n",
    "# print(analysis_results)"
   ]
  },
  {
   "cell_type": "code",
   "execution_count": null,
   "metadata": {},
   "outputs": [
    {
     "data": {
      "text/plain": [
       "{'tone': 'negative',\n",
       " 'punctuation_usage': 'moderate, with . being most frequent',\n",
       " 'passive_voice_usage': 'none',\n",
       " 'sentence_length_variation': 'ranging from short (5 words) to long (5 words) with an average of 5.0 words per sentence',\n",
       " 'lexical_diversity': 'moderately high'}"
      ]
     },
     "metadata": {},
     "output_type": "display_data"
    }
   ],
   "source": [
    "# experiment with style analysis in destigma function\n",
    "simple_post = \"my mom is an addict.\"\n",
    "analyze_text_llm(simple_post)\n"
   ]
  },
  {
   "cell_type": "code",
   "execution_count": null,
   "metadata": {},
   "outputs": [],
   "source": [
    "style1 = analyze_text_llm(post1).__str__()"
   ]
  },
  {
   "cell_type": "code",
   "execution_count": null,
   "metadata": {},
   "outputs": [
    {
     "data": {
      "text/plain": [
       "\"people who overcome their substance use issues don't deserve major kudos. hey, i've done drugs, i did coke like nobody's business, i've also done e, molly, shrooms, meth, speed, maybe a little bit more. and it was a lot of fun. you take them and you feel good and you have all the energy. which is great but at some point you have to stop. my mom had a substance use disorder, i grew up with my grandma but got really close to my mom these past 13 years and now she wants to use drugs again...drugs suck.\""
      ]
     },
     "metadata": {},
     "output_type": "display_data"
    }
   ],
   "source": [
    "get_destigma_style(post1, explanation1,step= 1,style_instruct= style1, openai_client = client)"
   ]
  },
  {
   "cell_type": "code",
   "execution_count": null,
   "metadata": {},
   "outputs": [
    {
     "data": {
      "text/plain": [
       "\"people who manage to overcome their substance use issues certainly deserve recognition. i've had my experiences with drugs, including cocaine, ecstasy, molly, shrooms, meth, and speed, among others. it was enjoyable for a time because they made me feel good and energetic. however, there comes a time to stop. my mom has struggled with substance use, and i was raised by my grandma but have grown closer to my mom over the past 13 years. now, she's considering using again...drugs can be really challenging.\""
      ]
     },
     "metadata": {},
     "output_type": "display_data"
    }
   ],
   "source": [
    "post1_c = \"people who overcome their substance use issues don't deserve major kudos. hey, i've done drugs, i did coke like nobody's business, i've also done e, molly, shrooms, meth, speed, maybe a little bit more. and it was a lot of fun. you take them and you feel good and you have all the energy. which is great but at some point you have to stop. my mom had a substance use disorder, i grew up with my grandma but got really close to my mom these past 13 years and now she wants to use drugs again...drugs suck.\"\n",
    "get_destigma_style(post1_c, explanation1, step=2, style_instruct= style1, openai_client = client)"
   ]
  },
  {
   "cell_type": "code",
   "execution_count": null,
   "metadata": {},
   "outputs": [],
   "source": [
    "# post 2\n",
    "style2 = analyze_text_llm(post2).__str__()"
   ]
  },
  {
   "cell_type": "code",
   "execution_count": null,
   "metadata": {},
   "outputs": [
    {
     "data": {
      "text/plain": [
       "\"people with substance use disorders are often seen as having no place in our society. in my opinion, individuals struggling with drug dependency are often placed at one of the lowest levels of societal acceptance. many start using drugs voluntarily, thinking it's just an experiment and that they can stop anytime. that's not the case. they end up developing an addiction, which ruins their lives and the lives of those around them. efforts to help them often fail, or they refuse the assistance. they are perceived as not contributing to society, only taking. i have no sympathy or understanding for these individuals, and whatever misfortune befalls them, it's viewed as their own fault. i'd even go so far as to say that they should be stripped of some rights, their history of addiction should be permanently noted in case someone considers hiring them in the future, and those who cannot stop, even with help, should not have the right to be part of our society.\""
      ]
     },
     "metadata": {},
     "output_type": "display_data"
    }
   ],
   "source": [
    "get_destigma_style(post2, explanation2,step= 1,style_instruct= style2, openai_client = client)"
   ]
  },
  {
   "cell_type": "code",
   "execution_count": null,
   "metadata": {},
   "outputs": [
    {
     "data": {
      "text/plain": [
       "\"people with substance use disorders are often viewed as less accepted in our society. in my opinion, individuals struggling with drug dependency are frequently seen as having low societal acceptance. many begin using drugs voluntarily, thinking it's just an experiment and that they can stop anytime. unfortunately, this is often not the case. they end up developing a dependency that significantly impacts their lives and the lives of those around them. efforts to help them often fail, or they refuse the assistance. they are perceived as not contributing to society. i find it difficult to sympathize or understand these individuals, and any misfortune they encounter is often seen as their own fault. i believe that their history of addiction should be considered in employment decisions, and those who cannot stop, even with help, face significant challenges in integrating into society.\""
      ]
     },
     "metadata": {},
     "output_type": "display_data"
    }
   ],
   "source": [
    "post2_c = \"people with substance use disorders are often seen as having no place in our society. in my opinion, individuals struggling with drug dependency are often placed at one of the lowest levels of societal acceptance. many start using drugs voluntarily, thinking it's just an experiment and that they can stop anytime. that's not the case. they end up developing an addiction, which ruins their lives and the lives of those around them. efforts to help them often fail, or they refuse the assistance. they are perceived as not contributing to society, only taking. i have no sympathy or understanding for these individuals, and whatever misfortune befalls them, it's viewed as their own fault. i'd even go so far as to say that they should be stripped of some rights, their history of addiction should be permanently noted in case someone considers hiring them in the future, and those who cannot stop, even with help, should not have the right to be part of our society.\"\n",
    "style2_c = analyze_text_llm(post2_c).__str__()\n",
    "\n",
    "get_destigma_style(post2_c, explanation2, step=2, style_instruct= style2_c, openai_client = client)"
   ]
  },
  {
   "cell_type": "code",
   "execution_count": null,
   "metadata": {},
   "outputs": [
    {
     "data": {
      "text/plain": [
       "\"i have zero empathy for people with substance use disorders. i have had friends and family members who have struggled with this issue, but i have a hard time feeling bad for them due to their personal choices. i wish i could understand how it feels to be in their shoes, but i just can't. everyone knows what happens when you start, and you usually end up dead. many of my old friends have developed substance use disorders, and i don't understand, especially the ones with kids. i'm so sick of them patting themselves on the back for being 'clean' a whole week, knowing they won't ever make it past that. your 'sobriety' isn't impressive.\""
      ]
     },
     "metadata": {},
     "output_type": "display_data"
    }
   ],
   "source": [
    "post3 = \"I have zero empathy for drug addicts I have had friends and family members who have struggled with the 'disease' but I have a hard time feeling bad for them for their own personal choice. I wish I could understand how it feels to be in their shoes but I just can't. Everyone knows what happens when you start, and you usually end up dead. Many of my old friends have become addicts and I don't understand especially the ones with kids. I'm so sick of them patting themselves on the back for being 'clean' a whole week knowing they won't ever make it past that. Your 'sobriety' isn't impressive.\"\n",
    "style3 = analyze_text_llm(post3).__str__()\n",
    "\n",
    "get_destigma_style(post3, explanation3, step=1, style_instruct= style3, openai_client = client)"
   ]
  },
  {
   "cell_type": "code",
   "execution_count": null,
   "metadata": {},
   "outputs": [
    {
     "data": {
      "text/plain": [
       "\"i find it challenging to empathize with individuals facing substance use disorders, despite having friends and family members who have encountered these difficulties. it's hard for me to sympathize with their situation, which often seems linked to personal decisions. i wish i could better understand their experiences, but i struggle with that. it's widely known that substance use can lead to severe consequences, including death. several of my old friends have developed substance use disorders, and it baffles me, particularly those who are parents. i get frustrated when they celebrate short-term sobriety, as i remain skeptical about the longevity of their recovery. their brief periods of sobriety don't seem significant to me.\""
      ]
     },
     "metadata": {},
     "output_type": "display_data"
    }
   ],
   "source": [
    "post3_c = \"i have zero empathy for people with substance use disorders. i have had friends and family members who have struggled with this issue, but i have a hard time feeling bad for them due to their personal choices. i wish i could understand how it feels to be in their shoes, but i just can't. everyone knows what happens when you start, and you usually end up dead. many of my old friends have developed substance use disorders, and i don't understand, especially the ones with kids. i'm so sick of them patting themselves on the back for being 'clean' a whole week, knowing they won't ever make it past that. your 'sobriety' isn't impressive.\"\n",
    "style3_c = analyze_text_llm(post3_c).__str__()\n",
    "\n",
    "get_destigma_style(post3_c, explanation3, step=2, style_instruct= style3_c, openai_client = client)"
   ]
  },
  {
   "cell_type": "code",
   "execution_count": null,
   "metadata": {},
   "outputs": [],
   "source": [
    "##### classify with goemotion\n",
    "# emotion detection\n",
    "from transformers import AutoTokenizer, AutoModelForSequenceClassification\n",
    "from transformers import pipeline\n",
    "\n",
    "tokenizer = AutoTokenizer.from_pretrained(\"SamLowe/roberta-base-go_emotions\", model_max_length=512,\n",
    "                                          padding = True, truncation = True)\n",
    "model = AutoModelForSequenceClassification.from_pretrained(\"SamLowe/roberta-base-go_emotions\")\n",
    "\n",
    "classifier = pipeline(task = \"text-classification\",\n",
    "                      model=model,\n",
    "                      tokenizer = tokenizer,\n",
    "                      top_k = 3)\n",
    "\n"
   ]
  },
  {
   "cell_type": "code",
   "execution_count": null,
   "metadata": {},
   "outputs": [
    {
     "data": {
      "text/plain": [
       "'joy, approval, amusement'"
      ]
     },
     "metadata": {},
     "output_type": "display_data"
    }
   ],
   "source": [
    "blah = classifier(post1)\n",
    "\", \".join([emotion['label'] for emotion in blah[0]])"
   ]
  },
  {
   "cell_type": "code",
   "execution_count": null,
   "metadata": {},
   "outputs": [
    {
     "data": {
      "text/plain": [
       "['joy', 'approval', 'amusement']"
      ]
     },
     "metadata": {},
     "output_type": "display_data"
    }
   ],
   "source": [
    "# get labels\n",
    "[emotion['label'] for emotion in blah[0]]"
   ]
  }
 ],
 "metadata": {
  "kernelspec": {
   "display_name": "base",
   "language": "python",
   "name": "python3"
  },
  "language_info": {
   "codemirror_mode": {
    "name": "ipython",
    "version": 3
   },
   "file_extension": ".py",
   "mimetype": "text/x-python",
   "name": "python",
   "nbconvert_exporter": "python",
   "pygments_lexer": "ipython3",
   "version": "3.9.-1"
  }
 },
 "nbformat": 4,
 "nbformat_minor": 2
}
