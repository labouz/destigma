{
 "cells": [
  {
   "cell_type": "code",
   "execution_count": 1,
   "metadata": {},
   "outputs": [],
   "source": [
    "import pandas as pd\n",
    "import pickle\n",
    "import os\n",
    "import time\n",
    "from task1 import get_drug_post\n",
    "import concurrent.futures\n",
    "import json\n",
    "import openai\n",
    "from pararallelize import process_posts_in_parallel\n",
    "\n",
    "with open('../data/secrets.json') as f:\n",
    "    secrets = json.load(f)\n",
    "\n",
    "api_key = secrets['OPENAI_API_KEY_LB']\n",
    "\n",
    "client = openai.Client(api_key=api_key)"
   ]
  },
  {
   "cell_type": "code",
   "execution_count": 2,
   "metadata": {},
   "outputs": [],
   "source": [
    "dat = pd.read_excel('../data/evaluation_sets/validation_layer_eval.xlsx')"
   ]
  },
  {
   "cell_type": "code",
   "execution_count": 3,
   "metadata": {},
   "outputs": [],
   "source": [
    "dat[\"gpt3_5_label\"] = process_posts_in_parallel(dat[\"text\"].tolist(),model= \"gpt-3.5-turbo-0125\",task = get_drug_post, client= client)"
   ]
  },
  {
   "cell_type": "code",
   "execution_count": 4,
   "metadata": {},
   "outputs": [],
   "source": [
    "# extract records that are d\n",
    "drug_posts = dat[dat[\"gpt3_5_label\"] == \"d\"]"
   ]
  },
  {
   "cell_type": "code",
   "execution_count": 5,
   "metadata": {},
   "outputs": [
    {
     "name": "stdout",
     "output_type": "stream",
     "text": [
      "TPM limit reached. Pausing for a minute...\n"
     ]
    },
    {
     "name": "stderr",
     "output_type": "stream",
     "text": [
      "/var/folders/jj/bt0ykz9n5_16z2gvbybl0tbc0000gn/T/ipykernel_20804/2843573097.py:1: SettingWithCopyWarning: \n",
      "A value is trying to be set on a copy of a slice from a DataFrame.\n",
      "Try using .loc[row_indexer,col_indexer] = value instead\n",
      "\n",
      "See the caveats in the documentation: https://pandas.pydata.org/pandas-docs/stable/user_guide/indexing.html#returning-a-view-versus-a-copy\n",
      "  drug_posts[\"gpt4_label\"] = process_posts_in_parallel(drug_posts[\"text\"].tolist(),model= \"gpt-4-turbo-2024-04-09\",task = get_drug_post, client= client)\n"
     ]
    }
   ],
   "source": [
    "drug_posts[\"gpt4_label\"] = process_posts_in_parallel(drug_posts[\"text\"].tolist(),model= \"gpt-4-turbo-2024-04-09\",task = get_drug_post, client= client)\n",
    "print(\"num of D lables: \", len(drug_posts[drug_posts[\"gpt4_label\"] == \"d\"]))"
   ]
  },
  {
   "cell_type": "code",
   "execution_count": 6,
   "metadata": {},
   "outputs": [
    {
     "name": "stdout",
     "output_type": "stream",
     "text": [
      "              precision    recall  f1-score   support\n",
      "\n",
      "           d       0.94      0.91      0.92       212\n",
      "          nd       0.59      0.68      0.63        40\n",
      "\n",
      "    accuracy                           0.87       252\n",
      "   macro avg       0.76      0.79      0.78       252\n",
      "weighted avg       0.88      0.87      0.88       252\n",
      "\n"
     ]
    }
   ],
   "source": [
    "from sklearn.metrics import accuracy_score, classification_report\n",
    "\n",
    "print(classification_report(drug_posts[\"is_drug_LB\"], drug_posts[\"gpt4_label\"]))"
   ]
  }
 ],
 "metadata": {
  "kernelspec": {
   "display_name": "base",
   "language": "python",
   "name": "python3"
  },
  "language_info": {
   "codemirror_mode": {
    "name": "ipython",
    "version": 3
   },
   "file_extension": ".py",
   "mimetype": "text/x-python",
   "name": "python",
   "nbconvert_exporter": "python",
   "pygments_lexer": "ipython3",
   "version": "3.9.13"
  }
 },
 "nbformat": 4,
 "nbformat_minor": 2
}
